import pandas as pd
import numpy as np
import matplotlib.pyplot as plt


X_train = np.array([[1, 1, 1],
[0, 0, 1],
 [0, 1, 0],
 [1, 0, 1],
 [1, 1, 1],
 [1, 1, 0],
 [0, 0, 0],
 [1, 1, 0],
 [0, 1, 0],
 [0, 1, 0]])

y_train = np.array([1, 1, 0, 0, 1, 1, 0, 1, 0, 0])


X_train[0]





# function to compute the entropy.

def entrophy(p):
    if p==1 or p==0:
        return 0
    else:
        return -p * np.log2(p) - (1 - p) * np.log2(1 - p)


print(entrophy(o.5))



