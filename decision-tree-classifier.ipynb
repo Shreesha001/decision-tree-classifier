{
 "cells": [
  {
   "cell_type": "code",
   "execution_count": 2,
   "id": "23f8c00b-aaed-490f-a649-d81b993c994c",
   "metadata": {},
   "outputs": [],
   "source": [
    "import pandas as pd\n",
    "import numpy as np\n",
    "import matplotlib.pyplot as plt"
   ]
  },
  {
   "cell_type": "code",
   "execution_count": 3,
   "id": "80703b8d-6877-482e-a533-91dd95b75d5c",
   "metadata": {},
   "outputs": [],
   "source": [
    "X_train = np.array([[1, 1, 1],\n",
    "[0, 0, 1],\n",
    " [0, 1, 0],\n",
    " [1, 0, 1],\n",
    " [1, 1, 1],\n",
    " [1, 1, 0],\n",
    " [0, 0, 0],\n",
    " [1, 1, 0],\n",
    " [0, 1, 0],\n",
    " [0, 1, 0]])\n",
    "\n",
    "y_train = np.array([1, 1, 0, 0, 1, 1, 0, 1, 0, 0])"
   ]
  },
  {
   "cell_type": "code",
   "execution_count": 4,
   "id": "df1e01f8-867c-4455-ac9a-757abd75f3dd",
   "metadata": {},
   "outputs": [
    {
     "data": {
      "text/plain": [
       "array([1, 1, 1])"
      ]
     },
     "execution_count": 4,
     "metadata": {},
     "output_type": "execute_result"
    }
   ],
   "source": [
    "X_train[0]"
   ]
  },
  {
   "cell_type": "markdown",
   "id": "a6b5a3ff-86af-4032-ab94-67259ebebb80",
   "metadata": {},
   "source": [
    "So, the root node has every animal in our dataset. $p_1^{node}$ is the proportion of positive class (cats) in the root node. So\n",
    "\n",
    "$$p_1^{node} = \\frac{5}{10} = 0.5$$"
   ]
  },
  {
   "cell_type": "code",
   "execution_count": 12,
   "id": "65ef3350-72ad-4180-a5ec-55261615ac4c",
   "metadata": {},
   "outputs": [],
   "source": [
    "# function to compute the entropy."
   ]
  },
  {
   "cell_type": "code",
   "execution_count": 23,
   "id": "8243681a-520e-4b1b-9f40-494d98d4b901",
   "metadata": {},
   "outputs": [],
   "source": [
    "def entropy(p):\n",
    "    if p==1 or p==0:\n",
    "        return 0\n",
    "    else:\n",
    "        return -p * np.log2(p) - (1 - p) * np.log2(1 - p)"
   ]
  },
  {
   "cell_type": "code",
   "execution_count": 24,
   "id": "55974024-9df7-4359-a795-c8d6d7e63df6",
   "metadata": {},
   "outputs": [
    {
     "name": "stdout",
     "output_type": "stream",
     "text": [
      "1.0\n"
     ]
    }
   ],
   "source": [
    "print(entropy(0.5))"
   ]
  },
  {
   "cell_type": "code",
   "execution_count": 25,
   "id": "2f35913b-124e-4e38-a621-203851c5d12d",
   "metadata": {},
   "outputs": [],
   "source": [
    "def split_indices(X, index_feature):\n",
    "    left_indeces = []\n",
    "    right_indeces = []\n",
    "    for i, x in enumerate(X):\n",
    "        if x[index_feature] == 1:\n",
    "            left_indeces.append(i)\n",
    "        else:\n",
    "            right_indeces.append(i)\n",
    "    return left_indeces, right_indeces"
   ]
  },
  {
   "cell_type": "markdown",
   "id": "51ae9612-b443-4ddf-bf3d-f8686c7abb81",
   "metadata": {},
   "source": [
    "So, if we choose Ear Shape to split, then we must have in the left node \n",
    "\n",
    "$$0 \\quad 3 \\quad 4 \\quad 5 \\quad 7$$\n",
    "\n",
    "and the right indices, the remaining ones."
   ]
  },
  {
   "cell_type": "code",
   "execution_count": 26,
   "id": "4219a591-c5ad-4d73-9a6a-fe787b0a6036",
   "metadata": {},
   "outputs": [
    {
     "data": {
      "text/plain": [
       "([0, 3, 4, 5, 7], [1, 2, 6, 8, 9])"
      ]
     },
     "execution_count": 26,
     "metadata": {},
     "output_type": "execute_result"
    }
   ],
   "source": [
    "split_indices(X_train, 0)"
   ]
  },
  {
   "cell_type": "code",
   "execution_count": 27,
   "id": "2d5e0108-a7ae-4a21-aa6b-b069c40e9424",
   "metadata": {},
   "outputs": [],
   "source": [
    "# function to compute the weighted entropy in the splitted nodes"
   ]
  },
  {
   "cell_type": "code",
   "execution_count": 28,
   "id": "7ac10d6e-01d6-4598-8015-3775c03adb03",
   "metadata": {},
   "outputs": [],
   "source": [
    "def weighted_entropy(X,y,left_indices,right_indices):\n",
    "    w_left = len(left_indices)/len(X)\n",
    "    w_right = len(right_indices)/len(X)\n",
    "    p_left = sum(y[left_indices])/len(left_indices)\n",
    "    p_right = sum(y[right_indices])/len(right_indices)\n",
    "    \n",
    "    weighted_entropy = w_left * entropy(p_left) + w_right * entropy(p_right)\n",
    "    return weighted_entropy"
   ]
  },
  {
   "cell_type": "code",
   "execution_count": 29,
   "id": "332cf087-3702-4a66-afc0-834d3485d13d",
   "metadata": {},
   "outputs": [
    {
     "data": {
      "text/plain": [
       "np.float64(0.7219280948873623)"
      ]
     },
     "execution_count": 29,
     "metadata": {},
     "output_type": "execute_result"
    }
   ],
   "source": [
    "left_indices, right_indices = split_indices(X_train, 0)\n",
    "weighted_entropy(X_train, y_train, left_indices, right_indices)"
   ]
  },
  {
   "cell_type": "markdown",
   "id": "38145177-2079-4048-b961-8e7b1fe45446",
   "metadata": {},
   "source": [
    " To compute the **Information Gain** we must subtract it from the entropy in the node we chose to split (in this case, the root node). "
   ]
  },
  {
   "cell_type": "code",
   "execution_count": 31,
   "id": "13f0f9cc-918d-4f9d-88d5-d66f4d56f113",
   "metadata": {},
   "outputs": [],
   "source": [
    "def information_gain(X, y, left_indices, right_indices): \n",
    "    p_node = sum(y)/len(y)\n",
    "    h_node = entropy(p_node)\n",
    "    w_entropy = weighted_entropy(X,y,left_indices,right_indices)\n",
    "    return h_node - w_entropy"
   ]
  },
  {
   "cell_type": "code",
   "execution_count": 32,
   "id": "a616189f-5494-4e9d-a907-d9182df3387a",
   "metadata": {},
   "outputs": [
    {
     "data": {
      "text/plain": [
       "np.float64(0.2780719051126377)"
      ]
     },
     "execution_count": 32,
     "metadata": {},
     "output_type": "execute_result"
    }
   ],
   "source": [
    "information_gain(X_train, y_train, left_indices, right_indices)"
   ]
  },
  {
   "cell_type": "code",
   "execution_count": 35,
   "id": "2e29e6e3-ba43-459b-b483-cfe848d13038",
   "metadata": {},
   "outputs": [],
   "source": [
    "# computing the information gain if we split the root node for each feature:"
   ]
  },
  {
   "cell_type": "code",
   "execution_count": 37,
   "id": "8c93d6a5-16a2-40aa-89ae-eed9f8342bcc",
   "metadata": {},
   "outputs": [
    {
     "name": "stdout",
     "output_type": "stream",
     "text": [
      "Feature: Ear Shape, information gain if we split the root node using this feature: 0.28\n",
      "Feature: Face Shape, information gain if we split the root node using this feature: 0.03\n",
      "Feature: Whiskers, information gain if we split the root node using this feature: 0.12\n"
     ]
    }
   ],
   "source": [
    "for i, feature_name in enumerate(['Ear Shape', 'Face Shape', 'Whiskers']):\n",
    "    left_indices, right_indices = split_indices(X_train, i)\n",
    "    i_gain = information_gain(X_train, y_train, left_indices, right_indices)\n",
    "    print(f\"Feature: {feature_name}, information gain if we split the root node using this feature: {i_gain:.2f}\")"
   ]
  },
  {
   "cell_type": "code",
   "execution_count": 38,
   "id": "7137bae2-2fe8-47db-ba05-1ca948c6c598",
   "metadata": {},
   "outputs": [
    {
     "name": "stdout",
     "output_type": "stream",
     "text": [
      "Best feature to split root: 0, gain = 0.28\n"
     ]
    }
   ],
   "source": [
    "best_feature = None\n",
    "best_gain = -1\n",
    "\n",
    "for i, feature_name in enumerate(['Ear Shape', 'Face Shape', 'Whiskers']):\n",
    "    left_indices, right_indices = split_indices(X_train, i)\n",
    "    i_gain = information_gain(X_train, y_train, left_indices, right_indices)\n",
    "\n",
    "    if i_gain > best_gain:\n",
    "        best_gain = i_gain\n",
    "        best_feature = i\n",
    "\n",
    "print(f\"Best feature to split root: {best_feature}, gain = {best_gain:.2f}\")\n"
   ]
  }
 ],
 "metadata": {
  "kernelspec": {
   "display_name": "Python 3.10 (tfenv)",
   "language": "python",
   "name": "tfenv"
  },
  "language_info": {
   "codemirror_mode": {
    "name": "ipython",
    "version": 3
   },
   "file_extension": ".py",
   "mimetype": "text/x-python",
   "name": "python",
   "nbconvert_exporter": "python",
   "pygments_lexer": "ipython3",
   "version": "3.10.13"
  }
 },
 "nbformat": 4,
 "nbformat_minor": 5
}
